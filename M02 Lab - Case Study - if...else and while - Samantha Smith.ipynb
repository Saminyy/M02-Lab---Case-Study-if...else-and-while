{
 "cells": [
  {
   "cell_type": "code",
   "execution_count": 1,
   "id": "84302fb4",
   "metadata": {},
   "outputs": [
    {
     "name": "stdout",
     "output_type": "stream",
     "text": [
      "Enter student's last name or enter ZZZ to quit: Stone\n",
      "Enter student's first name: Heidi\n",
      "Enter the student's GPA: 3.7\n",
      "You have made the Dean's List!\n",
      "Enter another student's name or enter ZZZ to quit: Freidman\n",
      "Enter student's first name: Trey\n",
      "Enter the student's GPA: 2.7\n",
      "Enter another student's name or enter ZZZ to quit: Jones\n",
      "Enter student's first name: Ethan\n",
      "Enter the student's GPA: 3.27\n",
      "You have made the Honor Roll!\n",
      "Enter another student's name or enter ZZZ to quit: White\n",
      "Enter student's first name: Brian\n",
      "Enter the student's GPA: 3.25\n",
      "You have made the Honor Roll!\n",
      "Enter another student's name or enter ZZZ to quit: wiley\n",
      "Enter student's first name: Stephanie\n",
      "Enter the student's GPA: 4.0\n",
      "You have made the Dean's List!\n",
      "Enter another student's name or enter ZZZ to quit: ZZZ\n",
      "Goodbye!\n"
     ]
    }
   ],
   "source": [
    "# Author: Samantha Smith\n",
    "# File Name: M02 Lab - Case Study - if...else and while - Samantha Smith.ipynb\n",
    "# Short Desc: This app asks the user for student names and GPAs and tests if the student \n",
    "# qualifies for either the Dean's List or the Honor Roll.\n",
    "\n",
    "lastName = input(\"Enter student's last name or enter ZZZ to quit: \")\n",
    "while lastName != \"ZZZ\":\n",
    "    firstName = input(\"Enter student's first name: \")\n",
    "    GPA = float(input(\"Enter the student's GPA: \"))\n",
    "    if GPA >= 3.5:\n",
    "        print(\"You have made the Dean's List!\")\n",
    "    elif GPA >= 3.25:\n",
    "        print(\"You have made the Honor Roll!\")\n",
    "    lastName = input(\"Enter another student's name or enter ZZZ to quit: \")\n",
    "else:\n",
    "    print(\"Goodbye!\")"
   ]
  }
 ],
 "metadata": {
  "kernelspec": {
   "display_name": "Python 3 (ipykernel)",
   "language": "python",
   "name": "python3"
  },
  "language_info": {
   "codemirror_mode": {
    "name": "ipython",
    "version": 3
   },
   "file_extension": ".py",
   "mimetype": "text/x-python",
   "name": "python",
   "nbconvert_exporter": "python",
   "pygments_lexer": "ipython3",
   "version": "3.10.9"
  }
 },
 "nbformat": 4,
 "nbformat_minor": 5
}
